{
 "cells": [
  {
   "cell_type": "code",
   "execution_count": 48,
   "metadata": {},
   "outputs": [],
   "source": [
    "import numpy as np\n",
    "import cv2\n",
    "from matplotlib import pyplot as plt"
   ]
  },
  {
   "cell_type": "code",
   "execution_count": 126,
   "metadata": {
    "collapsed": true
   },
   "outputs": [],
   "source": [
    "ImT1_L = cv2.imread('./Data/00/image_0/000000.png', 0)    #0 flag returns a grayscale image\n",
    "ImT1_R = cv2.imread('./Data/00/image_1/000000.png', 0)\n",
    "\n",
    "ImT2_L = cv2.imread('./Data/00/image_0/000001.png', 0)\n",
    "ImT2_R = cv2.imread('./Data/00/image_1/000001.png', 0)\n",
    "\n",
    "# cv2.imshow('ImT1_L', ImT1_L)\n",
    "# cv2.waitKey(0)\n",
    "# cv2.destroyAllWindows()\n",
    "\n",
    "block = 15\n",
    "\n",
    "#emperical values from P1, P2 as suggested in Ocv documentation\n",
    "P1 = 0 #block * block * 8\n",
    "P2 = 0 #block * block * 32\n",
    "\n",
    "disparityEngine = cv2.StereoSGBM_create(minDisparity=0,numDisparities=16, blockSize=block, P1=P1, P2=P2)\n",
    "ImT1_disparity = disparityEngine.compute(ImT1_L, ImT1_R).astype(np.float32)\n",
    "#cv2.imwrite('disparity.png', ImT1_disparity)\n",
    "ImT1_disparityA = np.divide(ImT1_disparity, 16.0)\n",
    "\n",
    "ImT2_disparity = disparityEngine.compute(ImT2_L, ImT2_R).astype(np.float32)\n",
    "ImT2_disparityA = np.divide(ImT2_disparity, 16.0)"
   ]
  },
  {
   "cell_type": "code",
   "execution_count": 129,
   "metadata": {},
   "outputs": [
    {
     "name": "stdout",
     "output_type": "stream",
     "text": [
      "3521\n"
     ]
    }
   ],
   "source": [
    "TILE_H = 10\n",
    "TILE_W = 20\n",
    "fastFeatureEngine = cv2.FastFeatureDetector_create()\n",
    "\n",
    "\n",
    "# keypoints = fastFeatureEngine.detect(ImT1_L)\n",
    "# ftDebug = ImT1_L\n",
    "# ftDebug = cv2.drawKeypoints(ImT1_L, keypoints, ftDebug, color=(255,0,0))\n",
    "# cv2.imwrite('ftDebug.png', ftDebug)\n",
    "\n",
    "#20x10 (wxh) tiles for extracting less features from images \n",
    "H,W = ImT1_L.shape\n",
    "kp = []\n",
    "idx = 0\n",
    "for y in range(0, H, TILE_H):\n",
    "    for x in range(0, W, TILE_W):\n",
    "        imPatch = ImT1_L[y:y+TILE_H, x:x+TILE_W]\n",
    "        keypoints = fastFeatureEngine.detect(imPatch)\n",
    "        for pt in keypoints:\n",
    "            pt.pt = (pt.pt[0] + x, pt.pt[1] + y)\n",
    "        \n",
    "        if (len(keypoints) > 10):\n",
    "            keypoints = sorted(keypoints, key=lambda x: -x.response)\n",
    "            for kpt in keypoints[0:10]:\n",
    "                kp.append(kpt)\n",
    "        else:\n",
    "            for kpt in keypoints:\n",
    "                kp.append(kpt)\n",
    "\n",
    "ftDebug = ImT1_L\n",
    "ftDebug = cv2.drawKeypoints(ImT1_L, kp, ftDebug, color=(255,0,0))\n",
    "cv2.imwrite('ftDebug.png', ftDebug)"
   ]
  },
  {
   "cell_type": "code",
   "execution_count": 154,
   "metadata": {},
   "outputs": [],
   "source": [
    "# pack keypoint 2-d coords into numpy array\n",
    "trackPoints1 = np.zeros((len(kp),1,2), dtype=np.float32)\n",
    "for i,kpt in enumerate(kp):\n",
    "    trackPoints1[i,:,0] = kpt.pt[0]\n",
    "    trackPoints1[i,:,1] = kpt.pt[1]\n",
    "\n",
    "# Parameters for lucas kanade optical flow\n",
    "lk_params = dict( winSize  = (15,15),\n",
    "                  maxLevel = 2,\n",
    "                  criteria = (cv2.TERM_CRITERIA_EPS | cv2.TERM_CRITERIA_COUNT, 10, 0.03))\n",
    "\n",
    "trackPoints2, st, err = cv2.calcOpticalFlowPyrLK(ImT1_L, ImT2_L, trackPoints1, None, **lk_params)\n",
    "\n",
    "ptTrackable = np.where(st == 1, 1,0).astype(bool)\n",
    "trackPoints1_KLT = trackPoints1[ptTrackable, ...]\n",
    "trackPoints2_KLT_t = trackPoints2[ptTrackable, ...]\n",
    "trackPoints2_KLT = np.around(trackPoints2_KLT_t)"
   ]
  },
  {
   "cell_type": "code",
   "execution_count": 155,
   "metadata": {},
   "outputs": [
    {
     "data": {
      "text/plain": [
       "array([[   25.,    11.],\n",
       "       [   19.,    11.],\n",
       "       [   30.,    12.],\n",
       "       ..., \n",
       "       [ 1080.,   380.],\n",
       "       [ 1109.,   368.],\n",
       "       [ 1164.,   365.]], dtype=float32)"
      ]
     },
     "execution_count": 155,
     "metadata": {},
     "output_type": "execute_result"
    }
   ],
   "source": [
    "trackPoints2_KLT"
   ]
  },
  {
   "cell_type": "code",
   "execution_count": null,
   "metadata": {
    "collapsed": true
   },
   "outputs": [],
   "source": []
  },
  {
   "cell_type": "code",
   "execution_count": 106,
   "metadata": {
    "collapsed": true
   },
   "outputs": [],
   "source": [
    "# params for ShiTomasi corner detection\n",
    "feature_params = dict( maxCorners = 100,\n",
    "                       qualityLevel = 0.3,\n",
    "                       minDistance = 7,\n",
    "                       blockSize = 7 )\n",
    "\n",
    "# Parameters for lucas kanade optical flow\n",
    "lk_params = dict( winSize  = (15,15),\n",
    "\n",
    "                 maxLevel = 2,\n",
    "                  criteria = (cv2.TERM_CRITERIA_EPS | cv2.TERM_CRITERIA_COUNT, 10, 0.03))\n",
    "\n",
    "p0 = cv2.goodFeaturesToTrack(ImT1_L, mask = None, **feature_params)\n",
    "p1, st, err = cv2.calcOpticalFlowPyrLK(ImT1_L, ImT2_L, p0, None, **lk_params)\n"
   ]
  },
  {
   "cell_type": "code",
   "execution_count": null,
   "metadata": {
    "collapsed": true
   },
   "outputs": [],
   "source": []
  }
 ],
 "metadata": {
  "kernelspec": {
   "display_name": "Python 3",
   "language": "python",
   "name": "python3"
  },
  "language_info": {
   "codemirror_mode": {
    "name": "ipython",
    "version": 3
   },
   "file_extension": ".py",
   "mimetype": "text/x-python",
   "name": "python",
   "nbconvert_exporter": "python",
   "pygments_lexer": "ipython3",
   "version": "3.6.1"
  }
 },
 "nbformat": 4,
 "nbformat_minor": 2
}
